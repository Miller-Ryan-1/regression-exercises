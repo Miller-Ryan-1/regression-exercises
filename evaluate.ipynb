{
 "cells": [
  {
   "cell_type": "code",
   "execution_count": 1,
   "id": "df5d60df",
   "metadata": {},
   "outputs": [],
   "source": [
    "import numpy as np\n",
    "import pandas as pd\n",
    "import matplotlib.pyplot as plt\n",
    "import seaborn as sns\n",
    "\n",
    "from wrangle import wrangle_zillow\n",
    "from wrangle import scale_zillow\n",
    "from splitter import splitter\n",
    "\n",
    "import warnings\n",
    "warnings.filterwarnings(\"ignore\")"
   ]
  },
  {
   "cell_type": "markdown",
   "id": "8043a10b",
   "metadata": {},
   "source": [
    "## 1. Load your zillow dataset."
   ]
  },
  {
   "cell_type": "code",
   "execution_count": 2,
   "id": "357280c3",
   "metadata": {},
   "outputs": [
    {
     "name": "stdout",
     "output_type": "stream",
     "text": [
      "Train = 56.0% | Validate = 24.0% | Test = 20.0%\n",
      "You did not stratify.  If looking to stratify, ensure to add argument: \"target = variable to stratify on\".\n"
     ]
    }
   ],
   "source": [
    "df = wrangle_zillow()\n",
    "train, test, validate = splitter(df)"
   ]
  },
  {
   "cell_type": "markdown",
   "id": "6db540f3",
   "metadata": {},
   "source": [
    "Will use train as well as train scaled:"
   ]
  },
  {
   "cell_type": "code",
   "execution_count": 3,
   "id": "5b224f13",
   "metadata": {},
   "outputs": [],
   "source": [
    "train_scaled, test_scaled, validate_scaled = scale_zillow(train, test, validate)"
   ]
  },
  {
   "cell_type": "markdown",
   "id": "dd2c306d",
   "metadata": {},
   "source": [
    "## 2. Fit a linear regression model (ordinary least squares) and compute yhat, predictions of *taxvaluedollarcnt* using only *calculatedfinishedsqft*."
   ]
  },
  {
   "cell_type": "markdown",
   "id": "e31641d7",
   "metadata": {},
   "source": [
    "For this question I will use the non-scaled dataset:"
   ]
  },
  {
   "cell_type": "code",
   "execution_count": 4,
   "id": "c83b834d",
   "metadata": {},
   "outputs": [
    {
     "data": {
      "text/plain": [
       "array([ 789060.83003177,  502744.05797135,  379306.47001673, ...,\n",
       "       1079394.80170018,  405600.86745085,  567019.2516992 ])"
      ]
     },
     "execution_count": 4,
     "metadata": {},
     "output_type": "execute_result"
    }
   ],
   "source": [
    "from sklearn.linear_model import LinearRegression\n",
    "\n",
    "model = LinearRegression().fit(train[['sqft']], train.value)\n",
    "predictions = model.predict(train[['sqft']])\n",
    "\n",
    "# predictions = yhat\n",
    "predictions"
   ]
  },
  {
   "cell_type": "markdown",
   "id": "f264abba",
   "metadata": {},
   "source": [
    "OLS least squares plot based on yhat:"
   ]
  },
  {
   "cell_type": "code",
   "execution_count": null,
   "id": "da95e798",
   "metadata": {},
   "outputs": [],
   "source": [
    "plt.scatter(train.sqft,train.value)\n",
    "plt.plot(train.sqft, predictions, c='red')\n",
    "plt.show()"
   ]
  },
  {
   "cell_type": "markdown",
   "id": "f459bb21",
   "metadata": {},
   "source": [
    "## 3. Plot the residuals for the linear regression model that you made"
   ]
  },
  {
   "cell_type": "code",
   "execution_count": null,
   "id": "155d32fb",
   "metadata": {},
   "outputs": [],
   "source": [
    "train_copy = train.copy()\n",
    "\n",
    "train_copy['yhat'] = predictions\n",
    "train_copy['residual'] = train_copy.value - train_copy.yhat\n",
    "train_copy.head(2)"
   ]
  },
  {
   "cell_type": "code",
   "execution_count": null,
   "id": "23483e0a",
   "metadata": {},
   "outputs": [],
   "source": [
    "plt.figure(figsize=(8,8))\n",
    "plt.scatter(train_copy.sqft,train_copy.residual)\n",
    "plt.xlabel('Square Footage')\n",
    "plt.ylabel('Residual')\n",
    "plt.show()"
   ]
  },
  {
   "cell_type": "markdown",
   "id": "4c4d8217",
   "metadata": {},
   "source": [
    "## 4. Calculate the sum of squared errors, explained sum of squares, total sum of squares, mean squared error, and root mean squared error for your model."
   ]
  },
  {
   "cell_type": "code",
   "execution_count": null,
   "id": "865e7540",
   "metadata": {},
   "outputs": [],
   "source": [
    "# Calcuate and add in Baseline and it's residual\n",
    "train_copy['baseline'] = train_copy.value.mean()\n",
    "train_copy['baseline_residual'] = train_copy.value - train_copy.baseline"
   ]
  },
  {
   "cell_type": "code",
   "execution_count": null,
   "id": "1fa85846",
   "metadata": {},
   "outputs": [],
   "source": [
    "# Now calculate baseline residual squared and OLS residual squared\n",
    "train_copy['baseline_residual^2'] = train_copy.baseline_residual**2\n",
    "train_copy['residual^2'] = train_copy.residual**2"
   ]
  },
  {
   "cell_type": "markdown",
   "id": "c0b2fc45",
   "metadata": {},
   "source": [
    "#### SSE:"
   ]
  },
  {
   "cell_type": "code",
   "execution_count": null,
   "id": "985b0013",
   "metadata": {},
   "outputs": [],
   "source": [
    "SSE = train_copy['residual^2'].sum()\n",
    "print(f'SSE = {SSE}')"
   ]
  },
  {
   "cell_type": "markdown",
   "id": "a09f8e85",
   "metadata": {},
   "source": [
    "#### SSE Baseline (TSS):"
   ]
  },
  {
   "cell_type": "code",
   "execution_count": null,
   "id": "3cc9a84d",
   "metadata": {},
   "outputs": [],
   "source": [
    "SSE_baseline = TSS = train_copy['baseline_residual^2'].sum()\n",
    "print(f'SSE Baseline = TSS = {TSS}')"
   ]
  },
  {
   "cell_type": "markdown",
   "id": "93635ab8",
   "metadata": {},
   "source": [
    "#### ESS:"
   ]
  },
  {
   "cell_type": "code",
   "execution_count": null,
   "id": "cc4c32af",
   "metadata": {},
   "outputs": [],
   "source": [
    "ESS = TSS - SSE\n",
    "print(f'ESS = {ESS}')"
   ]
  },
  {
   "cell_type": "markdown",
   "id": "ca87bccb",
   "metadata": {},
   "source": [
    "#### MSE:"
   ]
  },
  {
   "cell_type": "code",
   "execution_count": null,
   "id": "c268e6bb",
   "metadata": {},
   "outputs": [],
   "source": [
    "MSE = SSE/train_copy.shape[0]\n",
    "MSE_baseline = TSS/train_copy.shape[0]\n",
    "print(f'MSE = {MSE:.0f}; Baseline MSE = {MSE_baseline:.0f}.')\n",
    "if MSE_baseline - MSE > 0:\n",
    "      print(f'Model is superior to baseline by {(MSE_baseline-MSE):.0f}')\n",
    "else: \n",
    "      print(f'Model fails to perform better than baseline.')"
   ]
  },
  {
   "cell_type": "markdown",
   "id": "7caaf677",
   "metadata": {},
   "source": [
    "#### RMSE"
   ]
  },
  {
   "cell_type": "code",
   "execution_count": null,
   "id": "87368dfb",
   "metadata": {},
   "outputs": [],
   "source": [
    "from math import sqrt\n",
    "RMSE = sqrt(MSE)\n",
    "RMSE_baseline = sqrt(MSE_baseline)\n",
    "print(f'RMSE = {RMSE:.0f}; Baseline RMSE = {RMSE_baseline:.0f}.')\n",
    "if RMSE_baseline > RMSE:\n",
    "      print(f'Model is superior to baseline by {(RMSE_baseline-RMSE):.0f}')\n",
    "else: \n",
    "      print(f'Model fails to perform better than baseline.')"
   ]
  },
  {
   "cell_type": "markdown",
   "id": "28357663",
   "metadata": {},
   "source": [
    "## 5. Calculate the sum of squared errors, mean squared error, and root mean squared error for the baseline model (i.e. a model that always predicts the average taxvaluedollarcnt amount)."
   ]
  },
  {
   "cell_type": "markdown",
   "id": "39841ad2",
   "metadata": {},
   "source": [
    "##### See #4 above"
   ]
  },
  {
   "cell_type": "markdown",
   "id": "66dc48dd",
   "metadata": {},
   "source": [
    "## 6. Write python code that compares the sum of squared errors for your model against the sum of squared errors for the baseline model and outputs whether or not your model performs better than the baseline model."
   ]
  },
  {
   "cell_type": "markdown",
   "id": "a4cedd70",
   "metadata": {},
   "source": [
    "##### See #4 above"
   ]
  },
  {
   "cell_type": "markdown",
   "id": "de5a89ee",
   "metadata": {},
   "source": [
    "## 7. What is the amount of variance explained in your model?"
   ]
  },
  {
   "cell_type": "code",
   "execution_count": null,
   "id": "3533dccd",
   "metadata": {},
   "outputs": [],
   "source": [
    "R2 = ESS/TSS\n",
    "print(f'R2 = {R2:.2f}.  Percent of variance in y explained by x = {(100*R2):.1f}%')"
   ]
  },
  {
   "cell_type": "markdown",
   "id": "ca464ecd",
   "metadata": {},
   "source": [
    "## 8. Is your model better than the baseline model?"
   ]
  },
  {
   "cell_type": "markdown",
   "id": "3a17a7ad",
   "metadata": {},
   "source": [
    "Yes: SSE, MSE and RMSE all perform better than baseline."
   ]
  },
  {
   "cell_type": "markdown",
   "id": "0865adb7",
   "metadata": {},
   "source": [
    "## 9. Create a file named evaluate.py that contains the following functions."
   ]
  },
  {
   "cell_type": "code",
   "execution_count": null,
   "id": "7e84095f",
   "metadata": {},
   "outputs": [],
   "source": [
    "import evaluate"
   ]
  },
  {
   "cell_type": "markdown",
   "id": "1c47675d",
   "metadata": {},
   "source": [
    "First, the plotting function:"
   ]
  },
  {
   "cell_type": "code",
   "execution_count": null,
   "id": "748e728e",
   "metadata": {},
   "outputs": [],
   "source": [
    "evaluate.plot_residuals(train_copy.sqft, train_copy.value, train_copy.yhat)"
   ]
  },
  {
   "cell_type": "markdown",
   "id": "477ab9c1",
   "metadata": {},
   "source": [
    "Next, the regression and baseline error functions:"
   ]
  },
  {
   "cell_type": "code",
   "execution_count": null,
   "id": "c8838492",
   "metadata": {},
   "outputs": [],
   "source": [
    "evaluate.regression_errors(train_copy.value, train_copy.yhat)"
   ]
  },
  {
   "cell_type": "code",
   "execution_count": null,
   "id": "822618db",
   "metadata": {},
   "outputs": [],
   "source": [
    "evaluate.baseline_mean_errors(train_copy.value)"
   ]
  },
  {
   "cell_type": "markdown",
   "id": "919dce35",
   "metadata": {},
   "source": [
    "Finally, the functions which compares the mdoel to baseline (using previous two functions):"
   ]
  },
  {
   "cell_type": "code",
   "execution_count": null,
   "id": "602b4378",
   "metadata": {},
   "outputs": [],
   "source": [
    "evaluate.better_than_baseline(train_copy.value, train_copy.yhat)"
   ]
  }
 ],
 "metadata": {
  "kernelspec": {
   "display_name": "Python 3 (ipykernel)",
   "language": "python",
   "name": "python3"
  },
  "language_info": {
   "codemirror_mode": {
    "name": "ipython",
    "version": 3
   },
   "file_extension": ".py",
   "mimetype": "text/x-python",
   "name": "python",
   "nbconvert_exporter": "python",
   "pygments_lexer": "ipython3",
   "version": "3.9.7"
  }
 },
 "nbformat": 4,
 "nbformat_minor": 5
}
