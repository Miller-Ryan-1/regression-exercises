{
 "cells": [
  {
   "cell_type": "code",
   "execution_count": 1,
   "id": "b3e93a67",
   "metadata": {},
   "outputs": [],
   "source": [
    "import numpy as np\n",
    "import pandas as pd\n",
    "import matplotlib.pyplot as plt\n",
    "import seaborn as sns\n",
    "\n",
    "from wrangle import wrangle_zillow\n",
    "from wrangle import scale_zillow\n",
    "from splitter import splitter\n",
    "\n",
    "import warnings\n",
    "warnings.filterwarnings(\"ignore\")"
   ]
  },
  {
   "cell_type": "code",
   "execution_count": 2,
   "id": "24c68399",
   "metadata": {},
   "outputs": [
    {
     "data": {
      "text/html": [
       "<div>\n",
       "<style scoped>\n",
       "    .dataframe tbody tr th:only-of-type {\n",
       "        vertical-align: middle;\n",
       "    }\n",
       "\n",
       "    .dataframe tbody tr th {\n",
       "        vertical-align: top;\n",
       "    }\n",
       "\n",
       "    .dataframe thead th {\n",
       "        text-align: right;\n",
       "    }\n",
       "</style>\n",
       "<table border=\"1\" class=\"dataframe\">\n",
       "  <thead>\n",
       "    <tr style=\"text-align: right;\">\n",
       "      <th></th>\n",
       "      <th>bedroomcnt</th>\n",
       "      <th>bathroomcnt</th>\n",
       "      <th>calculatedfinishedsquarefeet</th>\n",
       "      <th>taxvaluedollarcnt</th>\n",
       "      <th>yearbuilt</th>\n",
       "      <th>taxamount</th>\n",
       "      <th>fips_name</th>\n",
       "    </tr>\n",
       "  </thead>\n",
       "  <tbody>\n",
       "    <tr>\n",
       "      <th>4</th>\n",
       "      <td>4</td>\n",
       "      <td>2.0</td>\n",
       "      <td>3633</td>\n",
       "      <td>296425</td>\n",
       "      <td>2005</td>\n",
       "      <td>6941.39</td>\n",
       "      <td>Los Angeles</td>\n",
       "    </tr>\n",
       "    <tr>\n",
       "      <th>6</th>\n",
       "      <td>3</td>\n",
       "      <td>4.0</td>\n",
       "      <td>1620</td>\n",
       "      <td>847770</td>\n",
       "      <td>2011</td>\n",
       "      <td>10244.94</td>\n",
       "      <td>Los Angeles</td>\n",
       "    </tr>\n",
       "  </tbody>\n",
       "</table>\n",
       "</div>"
      ],
      "text/plain": [
       "   bedroomcnt  bathroomcnt  calculatedfinishedsquarefeet  taxvaluedollarcnt  \\\n",
       "4           4          2.0                          3633             296425   \n",
       "6           3          4.0                          1620             847770   \n",
       "\n",
       "   yearbuilt  taxamount    fips_name  \n",
       "4       2005    6941.39  Los Angeles  \n",
       "6       2011   10244.94  Los Angeles  "
      ]
     },
     "execution_count": 2,
     "metadata": {},
     "output_type": "execute_result"
    }
   ],
   "source": [
    "df = wrangle_zillow()\n",
    "df.head(2)"
   ]
  },
  {
   "cell_type": "code",
   "execution_count": 3,
   "id": "a3f9c40a",
   "metadata": {},
   "outputs": [
    {
     "name": "stdout",
     "output_type": "stream",
     "text": [
      "Train = 56.0% | Validate = 24.0% | Test = 20.0%\n",
      "You did not stratify.  If looking to stratify, ensure to add argument: \"target = variable to stratify on\".\n",
      "<class 'pandas.core.frame.DataFrame'>\n",
      "Int64Index: 1192291 entries, 1774040 to 42058\n",
      "Data columns (total 7 columns):\n",
      " #   Column                        Non-Null Count    Dtype  \n",
      "---  ------                        --------------    -----  \n",
      " 0   bedroomcnt                    1192291 non-null  int64  \n",
      " 1   bathroomcnt                   1192291 non-null  float64\n",
      " 2   calculatedfinishedsquarefeet  1192291 non-null  int64  \n",
      " 3   taxvaluedollarcnt             1192291 non-null  int64  \n",
      " 4   yearbuilt                     1192291 non-null  int64  \n",
      " 5   taxamount                     1192291 non-null  float64\n",
      " 6   fips_name                     1192291 non-null  object \n",
      "dtypes: float64(2), int64(4), object(1)\n",
      "memory usage: 72.8+ MB\n"
     ]
    }
   ],
   "source": [
    "df_train, df_test, df_validate = splitter(df)\n",
    "df_train.info()"
   ]
  },
  {
   "cell_type": "markdown",
   "id": "d2381a97",
   "metadata": {},
   "source": [
    "## 1. Apply the scalers we talked about in this lesson to your data and visualize the results for the unscaled and scaled distribution ."
   ]
  },
  {
   "cell_type": "code",
   "execution_count": 4,
   "id": "ad488870",
   "metadata": {},
   "outputs": [],
   "source": [
    "from scipy import stats\n",
    "import sklearn.preprocessing"
   ]
  },
  {
   "cell_type": "markdown",
   "id": "aba97245",
   "metadata": {},
   "source": [
    "#### Min-Max Scaling"
   ]
  },
  {
   "cell_type": "code",
   "execution_count": 5,
   "id": "45dc66f8",
   "metadata": {},
   "outputs": [
    {
     "data": {
      "image/png": "[encoded data removed]",
      "text/plain": [
       "<Figure size 936x432 with 2 Axes>"
      ]
     },
     "metadata": {
      "needs_background": "light"
     },
     "output_type": "display_data"
    }
   ],
   "source": [
    "# Create the object\n",
    "scaler_min_max = sklearn.preprocessing.MinMaxScaler()\n",
    "scaler_min_max.fit(df_train.drop(columns='fips_name'))\n",
    "\n",
    "# Fit the data\n",
    "df_train_scaled_min_max = scaler_min_max.transform(df_train.drop(columns='fips_name'))\n",
    "df_validate_scaled_min_max = scaler_min_max.transform(df_validate.drop(columns='fips_name'))\n",
    "df_test_scaled_min_max = scaler_min_max.transform(df_test.drop(columns='fips_name'))\n",
    "\n",
    "# Plot\n",
    "plt.figure(figsize=(13, 6))\n",
    "plt.subplot(121)\n",
    "plt.hist(df_train.drop(columns='fips_name'), bins=25, ec='black')\n",
    "plt.title('Original')\n",
    "plt.subplot(122)\n",
    "plt.hist(df_train_scaled_min_max, bins=25, ec='black')\n",
    "plt.title('Scaled')\n",
    "plt.show()"
   ]
  },
  {
   "cell_type": "markdown",
   "id": "6f60b60c",
   "metadata": {},
   "source": [
    "### Standard Scaler"
   ]
  },
  {
   "cell_type": "code",
   "execution_count": 6,
   "id": "03e92c57",
   "metadata": {},
   "outputs": [
    {
     "data": {
      "image/png": "[encoded data removed]",
      "text/plain": [
       "<Figure size 936x432 with 2 Axes>"
      ]
     },
     "metadata": {
      "needs_background": "light"
     },
     "output_type": "display_data"
    }
   ],
   "source": [
    "# Create the object\n",
    "scaler_standard = sklearn.preprocessing.StandardScaler()\n",
    "scaler_standard.fit(df_train.drop(columns='fips_name'))\n",
    "\n",
    "# Fit the data\n",
    "df_train_scaled_standard = scaler_standard.transform(df_train.drop(columns='fips_name'))\n",
    "df_validate_scaled_standard = scaler_standard.transform(df_validate.drop(columns='fips_name'))\n",
    "df_test_scaled_standard = scaler_standard.transform(df_test.drop(columns='fips_name'))\n",
    "\n",
    "# Plot\n",
    "plt.figure(figsize=(13, 6))\n",
    "plt.subplot(121)\n",
    "plt.hist(df_train.drop(columns='fips_name'), bins=25, ec='black')\n",
    "plt.title('Original')\n",
    "plt.subplot(122)\n",
    "plt.hist(df_train_scaled_standard, bins=25, ec='black')\n",
    "plt.title('Scaled')\n",
    "plt.show()"
   ]
  },
  {
   "cell_type": "markdown",
   "id": "0891c204",
   "metadata": {},
   "source": [
    "### Robust Scaler"
   ]
  },
  {
   "cell_type": "code",
   "execution_count": 7,
   "id": "782f1520",
   "metadata": {},
   "outputs": [
    {
     "data": {
      "image/png": "[encoded data removed]",
      "text/plain": [
       "<Figure size 936x432 with 2 Axes>"
      ]
     },
     "metadata": {
      "needs_background": "light"
     },
     "output_type": "display_data"
    }
   ],
   "source": [
    "# Create the object\n",
    "scaler_robust = sklearn.preprocessing.RobustScaler()\n",
    "scaler_robust.fit(df_train.drop(columns='fips_name'))\n",
    "\n",
    "# Fit the data\n",
    "df_train_scaled_robust = scaler_robust.transform(df_train.drop(columns='fips_name'))\n",
    "df_validate_scaled_robust = scaler_robust.transform(df_validate.drop(columns='fips_name'))\n",
    "df_test_scaled_robust = scaler_robust.transform(df_test.drop(columns='fips_name'))\n",
    "\n",
    "# Plot\n",
    "plt.figure(figsize=(13, 6))\n",
    "plt.subplot(121)\n",
    "plt.hist(df_train.drop(columns='fips_name'), bins=25, ec='black')\n",
    "plt.title('Original')\n",
    "plt.subplot(122)\n",
    "plt.hist(df_train_scaled_robust, bins=25, ec='black')\n",
    "plt.title('Scaled')\n",
    "plt.show()"
   ]
  },
  {
   "cell_type": "markdown",
   "id": "d9b65a47",
   "metadata": {},
   "source": [
    "## 2. Apply the .inverse_transform method to your scaled data. Is the resulting dataset the exact same as the original data?"
   ]
  },
  {
   "cell_type": "code",
   "execution_count": 8,
   "id": "5661ebf6",
   "metadata": {},
   "outputs": [
    {
     "data": {
      "image/png": "[encoded data removed]",
      "text/plain": [
       "<Figure size 1152x432 with 4 Axes>"
      ]
     },
     "metadata": {
      "needs_background": "light"
     },
     "output_type": "display_data"
    }
   ],
   "source": [
    "# Create inverse objects\n",
    "min_max_scaled_back = scaler_min_max.inverse_transform(df_train_scaled_min_max)\n",
    "standard_scaled_back = scaler_standard.inverse_transform(df_train_scaled_standard)\n",
    "robust_scaled_back = scaler_robust.inverse_transform(df_train_scaled_robust)\n",
    "\n",
    "# Plot\n",
    "plt.figure(figsize=(16, 6))\n",
    "plt.subplot(141)\n",
    "plt.hist(df_train.drop(columns='fips_name'), bins=25, ec='black')\n",
    "plt.title('Original')\n",
    "plt.subplot(142)\n",
    "plt.hist(min_max_scaled_back, bins=25, ec='black')\n",
    "plt.title('Scaled Back Min-Max')\n",
    "plt.subplot(143)\n",
    "plt.hist(standard_scaled_back, bins=25, ec='black')\n",
    "plt.title('Scaled Back Standard')\n",
    "plt.subplot(144)\n",
    "plt.hist(robust_scaled_back, bins=25, ec='black')\n",
    "plt.title('Scaled Back Robust')\n",
    "plt.show()"
   ]
  },
  {
   "cell_type": "markdown",
   "id": "77ca0ad8",
   "metadata": {},
   "source": [
    "## 3. Read the documentation for sklearn's QuantileTransformer. Use normal for the output_distribution and apply this scaler to your data. Visualize the result of your data scaling."
   ]
  },
  {
   "cell_type": "code",
   "execution_count": 9,
   "id": "c27f8a20",
   "metadata": {},
   "outputs": [
    {
     "data": {
      "image/png": "[encoded data removed]",
      "text/plain": [
       "<Figure size 936x432 with 2 Axes>"
      ]
     },
     "metadata": {
      "needs_background": "light"
     },
     "output_type": "display_data"
    }
   ],
   "source": [
    "# Create the object\n",
    "scaler_qt = sklearn.preprocessing.QuantileTransformer(output_distribution = 'normal')\n",
    "scaler_qt.fit(df_train.drop(columns='fips_name'))\n",
    "\n",
    "# Fit the data\n",
    "df_train_scaled_qt = scaler_qt.transform(df_train.drop(columns='fips_name'))\n",
    "df_validate_scaled_qt = scaler_qt.transform(df_validate.drop(columns='fips_name'))\n",
    "df_test_sscaled_qt = scaler_qt.transform(df_test.drop(columns='fips_name'))\n",
    "\n",
    "# Plot\n",
    "plt.figure(figsize=(13, 6))\n",
    "plt.subplot(121)\n",
    "plt.hist(df_train.drop(columns='fips_name'), bins=25, ec='black')\n",
    "plt.title('Original')\n",
    "plt.subplot(122)\n",
    "plt.hist(df_train_scaled_qt, bins=25, ec='black')\n",
    "plt.title('Scaled')\n",
    "plt.show()"
   ]
  },
  {
   "cell_type": "markdown",
   "id": "d59ac83f",
   "metadata": {},
   "source": [
    "## 4. Use the QuantileTransformer, but omit the output_distribution argument. Visualize your results. What do you notice?"
   ]
  },
  {
   "cell_type": "code",
   "execution_count": 10,
   "id": "636d3fcf",
   "metadata": {},
   "outputs": [
    {
     "data": {
      "image/png": "[encoded data removed]",
      "text/plain": [
       "<Figure size 936x432 with 2 Axes>"
      ]
     },
     "metadata": {
      "needs_background": "light"
     },
     "output_type": "display_data"
    }
   ],
   "source": [
    "# Create the object\n",
    "scaler_qt_uni = sklearn.preprocessing.QuantileTransformer()\n",
    "scaler_qt_uni.fit(df_train.drop(columns='fips_name'))\n",
    "\n",
    "# Fit the data\n",
    "df_train_scaled_qt_uni = scaler_qt_uni.transform(df_train.drop(columns='fips_name'))\n",
    "df_validate_scaled_qt_uni = scaler_qt_uni.transform(df_validate.drop(columns='fips_name'))\n",
    "df_test_sscaled_qt_uni = scaler_qt_uni.transform(df_test.drop(columns='fips_name'))\n",
    "\n",
    "# Plot\n",
    "plt.figure(figsize=(13, 6))\n",
    "plt.subplot(121)\n",
    "plt.hist(df_train.drop(columns='fips_name'), bins=25, ec='black')\n",
    "plt.title('Original')\n",
    "plt.subplot(122)\n",
    "plt.hist(df_train_scaled_qt_uni, bins=25, ec='black')\n",
    "plt.title('Scaled')\n",
    "plt.show()"
   ]
  },
  {
   "cell_type": "markdown",
   "id": "85ca35a2",
   "metadata": {},
   "source": [
    "It is a flatter distribution (many values uniform) with a number of peaks.  It is also scaled from 0 to 1 as opposed to normalizing around zero."
   ]
  },
  {
   "cell_type": "markdown",
   "id": "69f37315",
   "metadata": {},
   "source": [
    "## 5. Based on the work you've done, choose a scaling method for your dataset. Write a function within your prepare.py that accepts as input the train, validate, and test data splits, and returns the scaled versions of each. Be sure to only learn the parameters for scaling from your training data!"
   ]
  },
  {
   "cell_type": "markdown",
   "id": "076fe7fb",
   "metadata": {},
   "source": [
    "Looks like Min-Max is the best scaling method.  Will create a function within wrangle that performs this (will happen after data split).  Testing this:"
   ]
  },
  {
   "cell_type": "code",
   "execution_count": 11,
   "id": "18361177",
   "metadata": {},
   "outputs": [
    {
     "data": {
      "text/html": [
       "<div>\n",
       "<style scoped>\n",
       "    .dataframe tbody tr th:only-of-type {\n",
       "        vertical-align: middle;\n",
       "    }\n",
       "\n",
       "    .dataframe tbody tr th {\n",
       "        vertical-align: top;\n",
       "    }\n",
       "\n",
       "    .dataframe thead th {\n",
       "        text-align: right;\n",
       "    }\n",
       "</style>\n",
       "<table border=\"1\" class=\"dataframe\">\n",
       "  <thead>\n",
       "    <tr style=\"text-align: right;\">\n",
       "      <th></th>\n",
       "      <th>bedroomcnt</th>\n",
       "      <th>bathroomcnt</th>\n",
       "      <th>calculatedfinishedsquarefeet</th>\n",
       "      <th>taxvaluedollarcnt</th>\n",
       "      <th>yearbuilt</th>\n",
       "      <th>taxamount</th>\n",
       "      <th>fips_name</th>\n",
       "      <th>fips_name_Los Angeles</th>\n",
       "      <th>fips_name_Orange</th>\n",
       "      <th>fips_name_Ventura</th>\n",
       "    </tr>\n",
       "  </thead>\n",
       "  <tbody>\n",
       "    <tr>\n",
       "      <th>1959641</th>\n",
       "      <td>0.333333</td>\n",
       "      <td>0.214286</td>\n",
       "      <td>0.012581</td>\n",
       "      <td>0.023498</td>\n",
       "      <td>0.725581</td>\n",
       "      <td>0.021525</td>\n",
       "      <td>Ventura</td>\n",
       "      <td>0</td>\n",
       "      <td>0</td>\n",
       "      <td>1</td>\n",
       "    </tr>\n",
       "    <tr>\n",
       "      <th>1418550</th>\n",
       "      <td>0.333333</td>\n",
       "      <td>0.214286</td>\n",
       "      <td>0.017035</td>\n",
       "      <td>0.018320</td>\n",
       "      <td>0.734884</td>\n",
       "      <td>0.019200</td>\n",
       "      <td>Orange</td>\n",
       "      <td>0</td>\n",
       "      <td>1</td>\n",
       "      <td>0</td>\n",
       "    </tr>\n",
       "    <tr>\n",
       "      <th>1795649</th>\n",
       "      <td>0.833333</td>\n",
       "      <td>0.357143</td>\n",
       "      <td>0.044186</td>\n",
       "      <td>0.045697</td>\n",
       "      <td>0.813953</td>\n",
       "      <td>0.042203</td>\n",
       "      <td>Orange</td>\n",
       "      <td>0</td>\n",
       "      <td>1</td>\n",
       "      <td>0</td>\n",
       "    </tr>\n",
       "    <tr>\n",
       "      <th>1498591</th>\n",
       "      <td>0.666667</td>\n",
       "      <td>0.357143</td>\n",
       "      <td>0.041806</td>\n",
       "      <td>0.021973</td>\n",
       "      <td>0.906977</td>\n",
       "      <td>0.022561</td>\n",
       "      <td>Los Angeles</td>\n",
       "      <td>1</td>\n",
       "      <td>0</td>\n",
       "      <td>0</td>\n",
       "    </tr>\n",
       "    <tr>\n",
       "      <th>1964050</th>\n",
       "      <td>0.166667</td>\n",
       "      <td>0.071429</td>\n",
       "      <td>0.006665</td>\n",
       "      <td>0.014631</td>\n",
       "      <td>0.688372</td>\n",
       "      <td>0.016245</td>\n",
       "      <td>Los Angeles</td>\n",
       "      <td>1</td>\n",
       "      <td>0</td>\n",
       "      <td>0</td>\n",
       "    </tr>\n",
       "    <tr>\n",
       "      <th>1319033</th>\n",
       "      <td>0.166667</td>\n",
       "      <td>0.071429</td>\n",
       "      <td>0.010830</td>\n",
       "      <td>0.002236</td>\n",
       "      <td>0.693023</td>\n",
       "      <td>0.003992</td>\n",
       "      <td>Los Angeles</td>\n",
       "      <td>1</td>\n",
       "      <td>0</td>\n",
       "      <td>0</td>\n",
       "    </tr>\n",
       "    <tr>\n",
       "      <th>1627760</th>\n",
       "      <td>0.333333</td>\n",
       "      <td>0.214286</td>\n",
       "      <td>0.014672</td>\n",
       "      <td>0.010075</td>\n",
       "      <td>0.716279</td>\n",
       "      <td>0.010340</td>\n",
       "      <td>Los Angeles</td>\n",
       "      <td>1</td>\n",
       "      <td>0</td>\n",
       "      <td>0</td>\n",
       "    </tr>\n",
       "    <tr>\n",
       "      <th>2050127</th>\n",
       "      <td>0.333333</td>\n",
       "      <td>0.071429</td>\n",
       "      <td>0.012190</td>\n",
       "      <td>0.013289</td>\n",
       "      <td>0.679070</td>\n",
       "      <td>0.015061</td>\n",
       "      <td>Los Angeles</td>\n",
       "      <td>1</td>\n",
       "      <td>0</td>\n",
       "      <td>0</td>\n",
       "    </tr>\n",
       "    <tr>\n",
       "      <th>2127581</th>\n",
       "      <td>0.166667</td>\n",
       "      <td>0.071429</td>\n",
       "      <td>0.010167</td>\n",
       "      <td>0.010206</td>\n",
       "      <td>0.702326</td>\n",
       "      <td>0.010518</td>\n",
       "      <td>Los Angeles</td>\n",
       "      <td>1</td>\n",
       "      <td>0</td>\n",
       "      <td>0</td>\n",
       "    </tr>\n",
       "    <tr>\n",
       "      <th>139877</th>\n",
       "      <td>0.333333</td>\n",
       "      <td>0.214286</td>\n",
       "      <td>0.026454</td>\n",
       "      <td>0.010216</td>\n",
       "      <td>0.948837</td>\n",
       "      <td>0.020389</td>\n",
       "      <td>Los Angeles</td>\n",
       "      <td>1</td>\n",
       "      <td>0</td>\n",
       "      <td>0</td>\n",
       "    </tr>\n",
       "  </tbody>\n",
       "</table>\n",
       "</div>"
      ],
      "text/plain": [
       "         bedroomcnt  bathroomcnt  calculatedfinishedsquarefeet  \\\n",
       "1959641    0.333333     0.214286                      0.012581   \n",
       "1418550    0.333333     0.214286                      0.017035   \n",
       "1795649    0.833333     0.357143                      0.044186   \n",
       "1498591    0.666667     0.357143                      0.041806   \n",
       "1964050    0.166667     0.071429                      0.006665   \n",
       "1319033    0.166667     0.071429                      0.010830   \n",
       "1627760    0.333333     0.214286                      0.014672   \n",
       "2050127    0.333333     0.071429                      0.012190   \n",
       "2127581    0.166667     0.071429                      0.010167   \n",
       "139877     0.333333     0.214286                      0.026454   \n",
       "\n",
       "         taxvaluedollarcnt  yearbuilt  taxamount    fips_name  \\\n",
       "1959641           0.023498   0.725581   0.021525      Ventura   \n",
       "1418550           0.018320   0.734884   0.019200       Orange   \n",
       "1795649           0.045697   0.813953   0.042203       Orange   \n",
       "1498591           0.021973   0.906977   0.022561  Los Angeles   \n",
       "1964050           0.014631   0.688372   0.016245  Los Angeles   \n",
       "1319033           0.002236   0.693023   0.003992  Los Angeles   \n",
       "1627760           0.010075   0.716279   0.010340  Los Angeles   \n",
       "2050127           0.013289   0.679070   0.015061  Los Angeles   \n",
       "2127581           0.010206   0.702326   0.010518  Los Angeles   \n",
       "139877            0.010216   0.948837   0.020389  Los Angeles   \n",
       "\n",
       "         fips_name_Los Angeles  fips_name_Orange  fips_name_Ventura  \n",
       "1959641                      0                 0                  1  \n",
       "1418550                      0                 1                  0  \n",
       "1795649                      0                 1                  0  \n",
       "1498591                      1                 0                  0  \n",
       "1964050                      1                 0                  0  \n",
       "1319033                      1                 0                  0  \n",
       "1627760                      1                 0                  0  \n",
       "2050127                      1                 0                  0  \n",
       "2127581                      1                 0                  0  \n",
       "139877                       1                 0                  0  "
      ]
     },
     "execution_count": 11,
     "metadata": {},
     "output_type": "execute_result"
    }
   ],
   "source": [
    "df_train_scaled, df_validate_scaled, df_test_scaled = scale_zillow(df_train, df_test, df_validate)\n",
    "df_train_scaled.sample(10)"
   ]
  }
 ],
 "metadata": {
  "kernelspec": {
   "display_name": "Python 3 (ipykernel)",
   "language": "python",
   "name": "python3"
  },
  "language_info": {
   "codemirror_mode": {
    "name": "ipython",
    "version": 3
   },
   "file_extension": ".py",
   "mimetype": "text/x-python",
   "name": "python",
   "nbconvert_exporter": "python",
   "pygments_lexer": "ipython3",
   "version": "3.9.7"
  }
 },
 "nbformat": 4,
 "nbformat_minor": 5
}
