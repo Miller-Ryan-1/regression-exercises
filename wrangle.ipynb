{
 "cells": [
  {
   "cell_type": "markdown",
   "id": "c7b928ce",
   "metadata": {},
   "source": [
    "# Acquisition and Preparation of Zillow Data"
   ]
  },
  {
   "cell_type": "markdown",
   "id": "ae99f51f",
   "metadata": {},
   "source": [
    "### Import libraries and modules"
   ]
  },
  {
   "cell_type": "code",
   "execution_count": 1,
   "id": "32b760c1",
   "metadata": {},
   "outputs": [],
   "source": [
    "from acquire import get_zillow_data\n",
    "import numpy as np\n",
    "import pandas as pd\n",
    "import matplotlib.pyplot as plt\n",
    "import seaborn as sns\n",
    "\n",
    "import warnings\n",
    "warnings.filterwarnings(\"ignore\")"
   ]
  },
  {
   "cell_type": "markdown",
   "id": "65edb0c1",
   "metadata": {},
   "source": [
    "### Load dataset"
   ]
  },
  {
   "cell_type": "markdown",
   "id": "44246238",
   "metadata": {},
   "source": [
    "#### First, I explored and then queried the dataset in MySQL.  I had to find out how to pull the requested columns from the different tables within the dataset.  The key was knowing that propertylandusetypeid = 261 for single family homes."
   ]
  },
  {
   "cell_type": "code",
   "execution_count": null,
   "id": "46cfa8f4",
   "metadata": {},
   "outputs": [],
   "source": [
    "df = get_zillow_data()\n",
    "df.info(show_counts = True)"
   ]
  },
  {
   "cell_type": "code",
   "execution_count": null,
   "id": "94bd3032",
   "metadata": {},
   "outputs": [],
   "source": [
    "df.isnull().sum()"
   ]
  },
  {
   "cell_type": "markdown",
   "id": "d1de15ff",
   "metadata": {},
   "source": [
    "There are a number of null values throughout the dataset.  Let's see how many records removing all nulls has on the dataset, then remove the biggest one, yearbuilt, and see what that does to the overall set."
   ]
  },
  {
   "cell_type": "code",
   "execution_count": null,
   "id": "0a4f8051",
   "metadata": {},
   "outputs": [],
   "source": [
    "df.dropna().shape"
   ]
  },
  {
   "cell_type": "code",
   "execution_count": null,
   "id": "be3c9b43",
   "metadata": {},
   "outputs": [],
   "source": [
    "df = df[df['yearbuilt'].notna()]\n",
    "df.isnull().sum()"
   ]
  },
  {
   "cell_type": "markdown",
   "id": "31fbd817",
   "metadata": {},
   "source": [
    "I will keep working my way down.  The only concern I have here is am losing quality rows where just a small piece of info is missing that could easily be imputed."
   ]
  },
  {
   "cell_type": "code",
   "execution_count": null,
   "id": "a3bc811b",
   "metadata": {},
   "outputs": [],
   "source": [
    "df = df[df['taxamount'].notna()]\n",
    "df.isnull().sum()"
   ]
  },
  {
   "cell_type": "code",
   "execution_count": null,
   "id": "335b71df",
   "metadata": {},
   "outputs": [],
   "source": [
    "df = df[df['calculatedfinishedsquarefeet'].notna()]\n",
    "df.isnull().sum()"
   ]
  },
  {
   "cell_type": "code",
   "execution_count": null,
   "id": "e2278b84",
   "metadata": {},
   "outputs": [],
   "source": [
    "df = df[df['taxvaluedollarcnt'].notna()]\n",
    "df.isnull().sum()"
   ]
  },
  {
   "cell_type": "code",
   "execution_count": null,
   "id": "e1abaac0",
   "metadata": {},
   "outputs": [],
   "source": [
    "df.shape"
   ]
  },
  {
   "cell_type": "markdown",
   "id": "2c60add2",
   "metadata": {},
   "source": [
    "#### The dropna on the enture dataset worked exactly like removing nans from each category individually."
   ]
  },
  {
   "cell_type": "markdown",
   "id": "44fe413e",
   "metadata": {},
   "source": [
    "What percentage of the entire dataset is null, and can we simply drop them and move on?"
   ]
  },
  {
   "cell_type": "code",
   "execution_count": null,
   "id": "7fbb3134",
   "metadata": {},
   "outputs": [],
   "source": [
    "print(f' Percent loss if all null columns eliminated = {100*(1-(2140235/2152863)):.2f}%')"
   ]
  },
  {
   "cell_type": "markdown",
   "id": "8ee20217",
   "metadata": {},
   "source": [
    "That is such a small number let's just drop all of these columns."
   ]
  },
  {
   "cell_type": "markdown",
   "id": "acfdeeed",
   "metadata": {},
   "source": [
    "#### Converting floats to integers, where able"
   ]
  },
  {
   "cell_type": "markdown",
   "id": "5d524c97",
   "metadata": {},
   "source": [
    "I noticed all of the columns, except bathroomcnt, are floats that could be integers.  So let's change them to integers since that is easier for the computer to work with."
   ]
  },
  {
   "cell_type": "code",
   "execution_count": null,
   "id": "b9f31c10",
   "metadata": {},
   "outputs": [],
   "source": [
    "df = df.astype({'bedroomcnt':'int', 'calculatedfinishedsquarefeet':'int', 'taxvaluedollarcnt':'int', 'yearbuilt':'int', 'taxamount':'int','fips':'int'})\n",
    "df.info()"
   ]
  },
  {
   "cell_type": "markdown",
   "id": "085e7a7b",
   "metadata": {},
   "source": [
    "#### Examing values for funky numbers"
   ]
  },
  {
   "cell_type": "code",
   "execution_count": null,
   "id": "8c01dc45",
   "metadata": {},
   "outputs": [],
   "source": [
    "df.describe().T"
   ]
  },
  {
   "cell_type": "code",
   "execution_count": null,
   "id": "4169a873",
   "metadata": {},
   "outputs": [],
   "source": [
    "df[df['calculatedfinishedsquarefeet'] < 400]"
   ]
  },
  {
   "cell_type": "markdown",
   "id": "e001f304",
   "metadata": {},
   "source": [
    "I am going to eliminate all homes with a square footage under 400 sqft, as it is only 2k rows (< .1% of total) and probably gets rid of some bad data."
   ]
  },
  {
   "cell_type": "code",
   "execution_count": null,
   "id": "23cb73e1",
   "metadata": {},
   "outputs": [],
   "source": [
    "df = df[df['calculatedfinishedsquarefeet'] > 400]"
   ]
  },
  {
   "cell_type": "markdown",
   "id": "466b1fae",
   "metadata": {},
   "source": [
    "Next I look at the taxvaluedollarcnt.  I decided to eliminate all those under $10k."
   ]
  },
  {
   "cell_type": "code",
   "execution_count": null,
   "id": "b0afb3a1",
   "metadata": {},
   "outputs": [],
   "source": [
    "df[df['taxvaluedollarcnt'] < 10000]"
   ]
  },
  {
   "cell_type": "code",
   "execution_count": null,
   "id": "10777685",
   "metadata": {},
   "outputs": [],
   "source": [
    "df = df[df['taxvaluedollarcnt'] > 10000]"
   ]
  },
  {
   "cell_type": "markdown",
   "id": "ad809801",
   "metadata": {},
   "source": [
    "Lastly, I am going to look at tax amount."
   ]
  },
  {
   "cell_type": "code",
   "execution_count": null,
   "id": "4b592b24",
   "metadata": {},
   "outputs": [],
   "source": [
    "df[df['taxamount'] < 100]"
   ]
  },
  {
   "cell_type": "code",
   "execution_count": null,
   "id": "db765337",
   "metadata": {},
   "outputs": [],
   "source": [
    "for i in range(100,2500,100): \n",
    "    x = df[df['taxamount'] < i].shape[0]\n",
    "    print(f'People who pay less than ${i} tax amount = {x}')"
   ]
  },
  {
   "cell_type": "markdown",
   "id": "386c8fa9",
   "metadata": {},
   "source": [
    "Based on this I am going to cut all those paying less than $200 as outliers.\n",
    "\n",
    "Now a check on the dataset:"
   ]
  },
  {
   "cell_type": "code",
   "execution_count": null,
   "id": "827f2663",
   "metadata": {},
   "outputs": [],
   "source": [
    "df = df[df['taxamount'] > 200]\n",
    "df.describe().T"
   ]
  },
  {
   "cell_type": "markdown",
   "id": "bdcd8983",
   "metadata": {},
   "source": [
    "### So, in summation, the wrangle for the zillow dataset is:\n",
    "1. Build SQL query for requested features.\n",
    "2. Acquire SQL query results using an acquire function and local env credentials.  Save to local csv.\n",
    "3. Drop all nulls\n",
    "4. Convert all columns to integers, with the exception of bathrooms (half bathrooms force a float)\n",
    "5. Go through and drop 'funky' data - clear outliers indicating a high probability of being misentered."
   ]
  },
  {
   "cell_type": "markdown",
   "id": "82fcef3e",
   "metadata": {},
   "source": [
    "## *Test of wrangle*"
   ]
  },
  {
   "cell_type": "code",
   "execution_count": 2,
   "id": "03ef5bf0",
   "metadata": {},
   "outputs": [],
   "source": [
    "from wrangle import wrangle_zillow"
   ]
  },
  {
   "cell_type": "code",
   "execution_count": 4,
   "id": "c58af895",
   "metadata": {},
   "outputs": [
    {
     "data": {
      "text/html": [
       "<div>\n",
       "<style scoped>\n",
       "    .dataframe tbody tr th:only-of-type {\n",
       "        vertical-align: middle;\n",
       "    }\n",
       "\n",
       "    .dataframe tbody tr th {\n",
       "        vertical-align: top;\n",
       "    }\n",
       "\n",
       "    .dataframe thead th {\n",
       "        text-align: right;\n",
       "    }\n",
       "</style>\n",
       "<table border=\"1\" class=\"dataframe\">\n",
       "  <thead>\n",
       "    <tr style=\"text-align: right;\">\n",
       "      <th></th>\n",
       "      <th>count</th>\n",
       "      <th>mean</th>\n",
       "      <th>std</th>\n",
       "      <th>min</th>\n",
       "      <th>25%</th>\n",
       "      <th>50%</th>\n",
       "      <th>75%</th>\n",
       "      <th>max</th>\n",
       "    </tr>\n",
       "  </thead>\n",
       "  <tbody>\n",
       "    <tr>\n",
       "      <th>bedroomcnt</th>\n",
       "      <td>2137028.0</td>\n",
       "      <td>3.304882</td>\n",
       "      <td>0.927623</td>\n",
       "      <td>0.0</td>\n",
       "      <td>3.0</td>\n",
       "      <td>3.0</td>\n",
       "      <td>4.0</td>\n",
       "      <td>25.0</td>\n",
       "    </tr>\n",
       "    <tr>\n",
       "      <th>bathroomcnt</th>\n",
       "      <td>2137028.0</td>\n",
       "      <td>2.242574</td>\n",
       "      <td>0.988722</td>\n",
       "      <td>0.0</td>\n",
       "      <td>2.0</td>\n",
       "      <td>2.0</td>\n",
       "      <td>3.0</td>\n",
       "      <td>32.0</td>\n",
       "    </tr>\n",
       "    <tr>\n",
       "      <th>calculatedfinishedsquarefeet</th>\n",
       "      <td>2137028.0</td>\n",
       "      <td>1865.140382</td>\n",
       "      <td>1221.416753</td>\n",
       "      <td>401.0</td>\n",
       "      <td>1259.0</td>\n",
       "      <td>1624.0</td>\n",
       "      <td>2209.0</td>\n",
       "      <td>952576.0</td>\n",
       "    </tr>\n",
       "    <tr>\n",
       "      <th>taxvaluedollarcnt</th>\n",
       "      <td>2137028.0</td>\n",
       "      <td>461122.073688</td>\n",
       "      <td>677382.525670</td>\n",
       "      <td>10091.0</td>\n",
       "      <td>189615.0</td>\n",
       "      <td>328816.0</td>\n",
       "      <td>535000.0</td>\n",
       "      <td>90188462.0</td>\n",
       "    </tr>\n",
       "    <tr>\n",
       "      <th>yearbuilt</th>\n",
       "      <td>2137028.0</td>\n",
       "      <td>1960.985765</td>\n",
       "      <td>22.143597</td>\n",
       "      <td>1801.0</td>\n",
       "      <td>1949.0</td>\n",
       "      <td>1958.0</td>\n",
       "      <td>1976.0</td>\n",
       "      <td>2016.0</td>\n",
       "    </tr>\n",
       "    <tr>\n",
       "      <th>taxamount</th>\n",
       "      <td>2137028.0</td>\n",
       "      <td>5622.631844</td>\n",
       "      <td>7817.031843</td>\n",
       "      <td>201.0</td>\n",
       "      <td>2547.0</td>\n",
       "      <td>4116.0</td>\n",
       "      <td>6416.0</td>\n",
       "      <td>1078101.0</td>\n",
       "    </tr>\n",
       "    <tr>\n",
       "      <th>fips</th>\n",
       "      <td>2137028.0</td>\n",
       "      <td>6048.312721</td>\n",
       "      <td>20.341286</td>\n",
       "      <td>6037.0</td>\n",
       "      <td>6037.0</td>\n",
       "      <td>6037.0</td>\n",
       "      <td>6059.0</td>\n",
       "      <td>6111.0</td>\n",
       "    </tr>\n",
       "  </tbody>\n",
       "</table>\n",
       "</div>"
      ],
      "text/plain": [
       "                                  count           mean            std  \\\n",
       "bedroomcnt                    2137028.0       3.304882       0.927623   \n",
       "bathroomcnt                   2137028.0       2.242574       0.988722   \n",
       "calculatedfinishedsquarefeet  2137028.0    1865.140382    1221.416753   \n",
       "taxvaluedollarcnt             2137028.0  461122.073688  677382.525670   \n",
       "yearbuilt                     2137028.0    1960.985765      22.143597   \n",
       "taxamount                     2137028.0    5622.631844    7817.031843   \n",
       "fips                          2137028.0    6048.312721      20.341286   \n",
       "\n",
       "                                  min       25%       50%       75%  \\\n",
       "bedroomcnt                        0.0       3.0       3.0       4.0   \n",
       "bathroomcnt                       0.0       2.0       2.0       3.0   \n",
       "calculatedfinishedsquarefeet    401.0    1259.0    1624.0    2209.0   \n",
       "taxvaluedollarcnt             10091.0  189615.0  328816.0  535000.0   \n",
       "yearbuilt                      1801.0    1949.0    1958.0    1976.0   \n",
       "taxamount                       201.0    2547.0    4116.0    6416.0   \n",
       "fips                           6037.0    6037.0    6037.0    6059.0   \n",
       "\n",
       "                                     max  \n",
       "bedroomcnt                          25.0  \n",
       "bathroomcnt                         32.0  \n",
       "calculatedfinishedsquarefeet    952576.0  \n",
       "taxvaluedollarcnt             90188462.0  \n",
       "yearbuilt                         2016.0  \n",
       "taxamount                      1078101.0  \n",
       "fips                              6111.0  "
      ]
     },
     "execution_count": 4,
     "metadata": {},
     "output_type": "execute_result"
    }
   ],
   "source": [
    "df = wrangle_zillow()\n",
    "df.describe().T"
   ]
  }
 ],
 "metadata": {
  "kernelspec": {
   "display_name": "Python 3 (ipykernel)",
   "language": "python",
   "name": "python3"
  },
  "language_info": {
   "codemirror_mode": {
    "name": "ipython",
    "version": 3
   },
   "file_extension": ".py",
   "mimetype": "text/x-python",
   "name": "python",
   "nbconvert_exporter": "python",
   "pygments_lexer": "ipython3",
   "version": "3.9.7"
  }
 },
 "nbformat": 4,
 "nbformat_minor": 5
}
