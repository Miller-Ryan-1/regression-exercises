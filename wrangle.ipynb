{
 "cells": [
  {
   "cell_type": "markdown",
   "id": "c7b928ce",
   "metadata": {},
   "source": [
    "# Acquisition and Preparation of Zillow Data"
   ]
  },
  {
   "cell_type": "markdown",
   "id": "ae99f51f",
   "metadata": {},
   "source": [
    "### Import libraries and modules"
   ]
  },
  {
   "cell_type": "code",
   "execution_count": 1,
   "id": "32b760c1",
   "metadata": {},
   "outputs": [],
   "source": [
    "from acquire import get_zillow_data\n",
    "import numpy as np\n",
    "import pandas as pd\n",
    "import matplotlib.pyplot as plt\n",
    "import seaborn as sns\n",
    "\n",
    "import warnings\n",
    "warnings.filterwarnings(\"ignore\")"
   ]
  },
  {
   "cell_type": "markdown",
   "id": "65edb0c1",
   "metadata": {},
   "source": [
    "### Load dataset"
   ]
  },
  {
   "cell_type": "markdown",
   "id": "44246238",
   "metadata": {},
   "source": [
    "#### First, I explored and then queried the dataset in MySQL.  I had to find out how to pull the requested columns from the different tables within the dataset.  The key was knowing that propertylandusetypeid = 261 for single family homes."
   ]
  },
  {
   "cell_type": "code",
   "execution_count": 2,
   "id": "46cfa8f4",
   "metadata": {},
   "outputs": [
    {
     "name": "stdout",
     "output_type": "stream",
     "text": [
      "<class 'pandas.core.frame.DataFrame'>\n",
      "Int64Index: 2152863 entries, 0 to 2152862\n",
      "Data columns (total 7 columns):\n",
      " #   Column                        Non-Null Count    Dtype  \n",
      "---  ------                        --------------    -----  \n",
      " 0   bedroomcnt                    2152852 non-null  float64\n",
      " 1   bathroomcnt                   2152852 non-null  float64\n",
      " 2   calculatedfinishedsquarefeet  2144379 non-null  float64\n",
      " 3   taxvaluedollarcnt             2152370 non-null  float64\n",
      " 4   yearbuilt                     2143526 non-null  float64\n",
      " 5   taxamount                     2148421 non-null  float64\n",
      " 6   fips                          2152863 non-null  float64\n",
      "dtypes: float64(7)\n",
      "memory usage: 131.4 MB\n"
     ]
    }
   ],
   "source": [
    "df = get_zillow_data()\n",
    "df.info(show_counts = True)"
   ]
  },
  {
   "cell_type": "code",
   "execution_count": 3,
   "id": "e96efac8",
   "metadata": {},
   "outputs": [
    {
     "data": {
      "text/plain": [
       "2152863"
      ]
     },
     "execution_count": 3,
     "metadata": {},
     "output_type": "execute_result"
    }
   ],
   "source": [
    "# Total entries in raw data:\n",
    "raw_entries = df.shape[0]\n",
    "raw_entries"
   ]
  },
  {
   "cell_type": "code",
   "execution_count": 4,
   "id": "94bd3032",
   "metadata": {},
   "outputs": [
    {
     "data": {
      "text/plain": [
       "bedroomcnt                        11\n",
       "bathroomcnt                       11\n",
       "calculatedfinishedsquarefeet    8484\n",
       "taxvaluedollarcnt                493\n",
       "yearbuilt                       9337\n",
       "taxamount                       4442\n",
       "fips                               0\n",
       "dtype: int64"
      ]
     },
     "execution_count": 4,
     "metadata": {},
     "output_type": "execute_result"
    }
   ],
   "source": [
    "df.isnull().sum()"
   ]
  },
  {
   "cell_type": "markdown",
   "id": "d1de15ff",
   "metadata": {},
   "source": [
    "There are a number of null values throughout the dataset.  Let's see how many records removing all nulls has on the dataset, then remove the biggest one, yearbuilt, and see what that does to the overall set."
   ]
  },
  {
   "cell_type": "code",
   "execution_count": 5,
   "id": "0a4f8051",
   "metadata": {},
   "outputs": [
    {
     "data": {
      "text/plain": [
       "(2140235, 7)"
      ]
     },
     "execution_count": 5,
     "metadata": {},
     "output_type": "execute_result"
    }
   ],
   "source": [
    "df.dropna().shape"
   ]
  },
  {
   "cell_type": "code",
   "execution_count": 6,
   "id": "be3c9b43",
   "metadata": {},
   "outputs": [
    {
     "data": {
      "text/plain": [
       "bedroomcnt                         7\n",
       "bathroomcnt                        7\n",
       "calculatedfinishedsquarefeet     607\n",
       "taxvaluedollarcnt                118\n",
       "yearbuilt                          0\n",
       "taxamount                       2708\n",
       "fips                               0\n",
       "dtype: int64"
      ]
     },
     "execution_count": 6,
     "metadata": {},
     "output_type": "execute_result"
    }
   ],
   "source": [
    "df = df[df['yearbuilt'].notna()]\n",
    "df.isnull().sum()"
   ]
  },
  {
   "cell_type": "markdown",
   "id": "31fbd817",
   "metadata": {},
   "source": [
    "I will keep working my way down.  The only concern I have here is am losing quality rows where just a small piece of info is missing that could easily be imputed."
   ]
  },
  {
   "cell_type": "code",
   "execution_count": 7,
   "id": "a3bc811b",
   "metadata": {},
   "outputs": [
    {
     "data": {
      "text/plain": [
       "bedroomcnt                        2\n",
       "bathroomcnt                       2\n",
       "calculatedfinishedsquarefeet    565\n",
       "taxvaluedollarcnt                21\n",
       "yearbuilt                         0\n",
       "taxamount                         0\n",
       "fips                              0\n",
       "dtype: int64"
      ]
     },
     "execution_count": 7,
     "metadata": {},
     "output_type": "execute_result"
    }
   ],
   "source": [
    "df = df[df['taxamount'].notna()]\n",
    "df.isnull().sum()"
   ]
  },
  {
   "cell_type": "code",
   "execution_count": 8,
   "id": "335b71df",
   "metadata": {},
   "outputs": [
    {
     "data": {
      "text/plain": [
       "bedroomcnt                       0\n",
       "bathroomcnt                      0\n",
       "calculatedfinishedsquarefeet     0\n",
       "taxvaluedollarcnt               18\n",
       "yearbuilt                        0\n",
       "taxamount                        0\n",
       "fips                             0\n",
       "dtype: int64"
      ]
     },
     "execution_count": 8,
     "metadata": {},
     "output_type": "execute_result"
    }
   ],
   "source": [
    "df = df[df['calculatedfinishedsquarefeet'].notna()]\n",
    "df.isnull().sum()"
   ]
  },
  {
   "cell_type": "code",
   "execution_count": 9,
   "id": "e2278b84",
   "metadata": {},
   "outputs": [
    {
     "data": {
      "text/plain": [
       "bedroomcnt                      0\n",
       "bathroomcnt                     0\n",
       "calculatedfinishedsquarefeet    0\n",
       "taxvaluedollarcnt               0\n",
       "yearbuilt                       0\n",
       "taxamount                       0\n",
       "fips                            0\n",
       "dtype: int64"
      ]
     },
     "execution_count": 9,
     "metadata": {},
     "output_type": "execute_result"
    }
   ],
   "source": [
    "df = df[df['taxvaluedollarcnt'].notna()]\n",
    "df.isnull().sum()"
   ]
  },
  {
   "cell_type": "code",
   "execution_count": 10,
   "id": "e1abaac0",
   "metadata": {},
   "outputs": [
    {
     "data": {
      "text/plain": [
       "(2140235, 7)"
      ]
     },
     "execution_count": 10,
     "metadata": {},
     "output_type": "execute_result"
    }
   ],
   "source": [
    "df.shape"
   ]
  },
  {
   "cell_type": "markdown",
   "id": "2c60add2",
   "metadata": {},
   "source": [
    "#### The dropna on the enture dataset worked exactly like removing nans from each category individually."
   ]
  },
  {
   "cell_type": "markdown",
   "id": "44fe413e",
   "metadata": {},
   "source": [
    "What percentage of the entire dataset is null, and can we simply drop them and move on?"
   ]
  },
  {
   "cell_type": "code",
   "execution_count": 11,
   "id": "7fbb3134",
   "metadata": {},
   "outputs": [
    {
     "name": "stdout",
     "output_type": "stream",
     "text": [
      " Percent loss if all null columns eliminated = 0.59%\n"
     ]
    }
   ],
   "source": [
    "print(f' Percent loss if all null columns eliminated = {100*(1-(df.shape[0]/raw_entries)):.2f}%')"
   ]
  },
  {
   "cell_type": "markdown",
   "id": "8ee20217",
   "metadata": {},
   "source": [
    "That is such a small number let's just drop all of these columns."
   ]
  },
  {
   "cell_type": "markdown",
   "id": "acfdeeed",
   "metadata": {},
   "source": [
    "#### Converting floats to integers, where able"
   ]
  },
  {
   "cell_type": "markdown",
   "id": "5d524c97",
   "metadata": {},
   "source": [
    "I noticed all of the columns, except bathroomcnt, are floats that could be integers (taxamount is also a float but I feel comfortable round that to an integer).  So let's change them to integers since that is easier for the computer to work with."
   ]
  },
  {
   "cell_type": "code",
   "execution_count": 12,
   "id": "b9f31c10",
   "metadata": {},
   "outputs": [
    {
     "name": "stdout",
     "output_type": "stream",
     "text": [
      "<class 'pandas.core.frame.DataFrame'>\n",
      "Int64Index: 2140235 entries, 4 to 2152862\n",
      "Data columns (total 7 columns):\n",
      " #   Column                        Dtype  \n",
      "---  ------                        -----  \n",
      " 0   bedroomcnt                    int64  \n",
      " 1   bathroomcnt                   float64\n",
      " 2   calculatedfinishedsquarefeet  int64  \n",
      " 3   taxvaluedollarcnt             int64  \n",
      " 4   yearbuilt                     int64  \n",
      " 5   taxamount                     int64  \n",
      " 6   fips                          int64  \n",
      "dtypes: float64(1), int64(6)\n",
      "memory usage: 130.6 MB\n"
     ]
    }
   ],
   "source": [
    "df = df.astype({'bedroomcnt':'int', 'calculatedfinishedsquarefeet':'int', 'taxvaluedollarcnt':'int', 'yearbuilt':'int', 'taxamount':'int','fips':'int'})\n",
    "df.info()"
   ]
  },
  {
   "cell_type": "markdown",
   "id": "085e7a7b",
   "metadata": {},
   "source": [
    "#### Examing values for funky numbers"
   ]
  },
  {
   "cell_type": "code",
   "execution_count": 13,
   "id": "8c01dc45",
   "metadata": {},
   "outputs": [
    {
     "data": {
      "text/html": [
       "<div>\n",
       "<style scoped>\n",
       "    .dataframe tbody tr th:only-of-type {\n",
       "        vertical-align: middle;\n",
       "    }\n",
       "\n",
       "    .dataframe tbody tr th {\n",
       "        vertical-align: top;\n",
       "    }\n",
       "\n",
       "    .dataframe thead th {\n",
       "        text-align: right;\n",
       "    }\n",
       "</style>\n",
       "<table border=\"1\" class=\"dataframe\">\n",
       "  <thead>\n",
       "    <tr style=\"text-align: right;\">\n",
       "      <th></th>\n",
       "      <th>count</th>\n",
       "      <th>mean</th>\n",
       "      <th>std</th>\n",
       "      <th>min</th>\n",
       "      <th>25%</th>\n",
       "      <th>50%</th>\n",
       "      <th>75%</th>\n",
       "      <th>max</th>\n",
       "    </tr>\n",
       "  </thead>\n",
       "  <tbody>\n",
       "    <tr>\n",
       "      <th>bedroomcnt</th>\n",
       "      <td>2140235.0</td>\n",
       "      <td>3.301419</td>\n",
       "      <td>0.932600</td>\n",
       "      <td>0.0</td>\n",
       "      <td>3.0</td>\n",
       "      <td>3.0</td>\n",
       "      <td>4.0</td>\n",
       "      <td>25.0</td>\n",
       "    </tr>\n",
       "    <tr>\n",
       "      <th>bathroomcnt</th>\n",
       "      <td>2140235.0</td>\n",
       "      <td>2.240352</td>\n",
       "      <td>0.990549</td>\n",
       "      <td>0.0</td>\n",
       "      <td>2.0</td>\n",
       "      <td>2.0</td>\n",
       "      <td>3.0</td>\n",
       "      <td>32.0</td>\n",
       "    </tr>\n",
       "    <tr>\n",
       "      <th>calculatedfinishedsquarefeet</th>\n",
       "      <td>2140235.0</td>\n",
       "      <td>1863.193970</td>\n",
       "      <td>1221.754161</td>\n",
       "      <td>1.0</td>\n",
       "      <td>1258.0</td>\n",
       "      <td>1623.0</td>\n",
       "      <td>2208.0</td>\n",
       "      <td>952576.0</td>\n",
       "    </tr>\n",
       "    <tr>\n",
       "      <th>taxvaluedollarcnt</th>\n",
       "      <td>2140235.0</td>\n",
       "      <td>460641.625164</td>\n",
       "      <td>677157.635675</td>\n",
       "      <td>22.0</td>\n",
       "      <td>189166.0</td>\n",
       "      <td>328296.0</td>\n",
       "      <td>534606.0</td>\n",
       "      <td>90188462.0</td>\n",
       "    </tr>\n",
       "    <tr>\n",
       "      <th>yearbuilt</th>\n",
       "      <td>2140235.0</td>\n",
       "      <td>1960.967545</td>\n",
       "      <td>22.150563</td>\n",
       "      <td>1801.0</td>\n",
       "      <td>1949.0</td>\n",
       "      <td>1958.0</td>\n",
       "      <td>1976.0</td>\n",
       "      <td>2016.0</td>\n",
       "    </tr>\n",
       "    <tr>\n",
       "      <th>taxamount</th>\n",
       "      <td>2140235.0</td>\n",
       "      <td>5616.218147</td>\n",
       "      <td>7814.562814</td>\n",
       "      <td>6.0</td>\n",
       "      <td>2540.0</td>\n",
       "      <td>4111.0</td>\n",
       "      <td>6411.0</td>\n",
       "      <td>1078101.0</td>\n",
       "    </tr>\n",
       "    <tr>\n",
       "      <th>fips</th>\n",
       "      <td>2140235.0</td>\n",
       "      <td>6048.309556</td>\n",
       "      <td>20.344910</td>\n",
       "      <td>6037.0</td>\n",
       "      <td>6037.0</td>\n",
       "      <td>6037.0</td>\n",
       "      <td>6059.0</td>\n",
       "      <td>6111.0</td>\n",
       "    </tr>\n",
       "  </tbody>\n",
       "</table>\n",
       "</div>"
      ],
      "text/plain": [
       "                                  count           mean            std     min  \\\n",
       "bedroomcnt                    2140235.0       3.301419       0.932600     0.0   \n",
       "bathroomcnt                   2140235.0       2.240352       0.990549     0.0   \n",
       "calculatedfinishedsquarefeet  2140235.0    1863.193970    1221.754161     1.0   \n",
       "taxvaluedollarcnt             2140235.0  460641.625164  677157.635675    22.0   \n",
       "yearbuilt                     2140235.0    1960.967545      22.150563  1801.0   \n",
       "taxamount                     2140235.0    5616.218147    7814.562814     6.0   \n",
       "fips                          2140235.0    6048.309556      20.344910  6037.0   \n",
       "\n",
       "                                   25%       50%       75%         max  \n",
       "bedroomcnt                         3.0       3.0       4.0        25.0  \n",
       "bathroomcnt                        2.0       2.0       3.0        32.0  \n",
       "calculatedfinishedsquarefeet    1258.0    1623.0    2208.0    952576.0  \n",
       "taxvaluedollarcnt             189166.0  328296.0  534606.0  90188462.0  \n",
       "yearbuilt                       1949.0    1958.0    1976.0      2016.0  \n",
       "taxamount                       2540.0    4111.0    6411.0   1078101.0  \n",
       "fips                            6037.0    6037.0    6059.0      6111.0  "
      ]
     },
     "execution_count": 13,
     "metadata": {},
     "output_type": "execute_result"
    }
   ],
   "source": [
    "df.describe().T"
   ]
  },
  {
   "cell_type": "code",
   "execution_count": 14,
   "id": "4169a873",
   "metadata": {},
   "outputs": [
    {
     "name": "stdout",
     "output_type": "stream",
     "text": [
      "<class 'pandas.core.frame.DataFrame'>\n",
      "Int64Index: 2009 entries, 14 to 2152505\n",
      "Data columns (total 7 columns):\n",
      " #   Column                        Non-Null Count  Dtype  \n",
      "---  ------                        --------------  -----  \n",
      " 0   bedroomcnt                    2009 non-null   int64  \n",
      " 1   bathroomcnt                   2009 non-null   float64\n",
      " 2   calculatedfinishedsquarefeet  2009 non-null   int64  \n",
      " 3   taxvaluedollarcnt             2009 non-null   int64  \n",
      " 4   yearbuilt                     2009 non-null   int64  \n",
      " 5   taxamount                     2009 non-null   int64  \n",
      " 6   fips                          2009 non-null   int64  \n",
      "dtypes: float64(1), int64(6)\n",
      "memory usage: 125.6 KB\n"
     ]
    }
   ],
   "source": [
    "df[df['calculatedfinishedsquarefeet'] < 400].info()"
   ]
  },
  {
   "cell_type": "markdown",
   "id": "e001f304",
   "metadata": {},
   "source": [
    "I am going to eliminate all homes with a square footage under 400 sqft, as it is only 2k rows (< .1% of total) and probably gets rid of some bad data."
   ]
  },
  {
   "cell_type": "code",
   "execution_count": 15,
   "id": "23cb73e1",
   "metadata": {},
   "outputs": [],
   "source": [
    "df = df[df['calculatedfinishedsquarefeet'] > 400]"
   ]
  },
  {
   "cell_type": "markdown",
   "id": "466b1fae",
   "metadata": {},
   "source": [
    "Next I look at the taxvaluedollarcnt.  I decided to eliminate all those under $10k."
   ]
  },
  {
   "cell_type": "code",
   "execution_count": 16,
   "id": "b0afb3a1",
   "metadata": {},
   "outputs": [
    {
     "name": "stdout",
     "output_type": "stream",
     "text": [
      "<class 'pandas.core.frame.DataFrame'>\n",
      "Int64Index: 197 entries, 11 to 2138174\n",
      "Data columns (total 7 columns):\n",
      " #   Column                        Non-Null Count  Dtype  \n",
      "---  ------                        --------------  -----  \n",
      " 0   bedroomcnt                    197 non-null    int64  \n",
      " 1   bathroomcnt                   197 non-null    float64\n",
      " 2   calculatedfinishedsquarefeet  197 non-null    int64  \n",
      " 3   taxvaluedollarcnt             197 non-null    int64  \n",
      " 4   yearbuilt                     197 non-null    int64  \n",
      " 5   taxamount                     197 non-null    int64  \n",
      " 6   fips                          197 non-null    int64  \n",
      "dtypes: float64(1), int64(6)\n",
      "memory usage: 12.3 KB\n"
     ]
    }
   ],
   "source": [
    "df[df['taxvaluedollarcnt'] < 10000].info()"
   ]
  },
  {
   "cell_type": "code",
   "execution_count": 17,
   "id": "10777685",
   "metadata": {},
   "outputs": [],
   "source": [
    "df = df[df['taxvaluedollarcnt'] > 10000]"
   ]
  },
  {
   "cell_type": "markdown",
   "id": "d48a8579",
   "metadata": {},
   "source": [
    "Next I look at taxamount and decided to get a bit more granular on this one, as the outlier data wasn't as obvious."
   ]
  },
  {
   "cell_type": "code",
   "execution_count": 18,
   "id": "db765337",
   "metadata": {},
   "outputs": [
    {
     "name": "stdout",
     "output_type": "stream",
     "text": [
      "People who pay less than $100 tax amount = 228\n",
      "People who pay less than $200 tax amount = 682\n",
      "People who pay less than $300 tax amount = 1542\n",
      "People who pay less than $400 tax amount = 4163\n",
      "People who pay less than $500 tax amount = 9287\n",
      "People who pay less than $600 tax amount = 17770\n",
      "People who pay less than $700 tax amount = 29840\n",
      "People who pay less than $800 tax amount = 46588\n",
      "People who pay less than $900 tax amount = 72355\n",
      "People who pay less than $1000 tax amount = 104381\n",
      "People who pay less than $1100 tax amount = 139847\n",
      "People who pay less than $1200 tax amount = 174480\n",
      "People who pay less than $1300 tax amount = 206047\n",
      "People who pay less than $1400 tax amount = 234235\n",
      "People who pay less than $1500 tax amount = 260054\n",
      "People who pay less than $1600 tax amount = 284524\n",
      "People who pay less than $1700 tax amount = 308622\n",
      "People who pay less than $1800 tax amount = 332228\n",
      "People who pay less than $1900 tax amount = 355657\n",
      "People who pay less than $2000 tax amount = 379887\n",
      "People who pay less than $2100 tax amount = 405430\n",
      "People who pay less than $2200 tax amount = 432069\n",
      "People who pay less than $2300 tax amount = 459850\n",
      "People who pay less than $2400 tax amount = 489128\n"
     ]
    }
   ],
   "source": [
    "for i in range(100,2500,100): \n",
    "    x = df[df['taxamount'] < i].shape[0]\n",
    "    print(f'People who pay less than ${i} tax amount = {x}')"
   ]
  },
  {
   "cell_type": "markdown",
   "id": "386c8fa9",
   "metadata": {},
   "source": [
    "Based on this I am going to cut all those paying less than $200 as outliers.\n",
    "\n",
    "Now a quick visual check on the dataset:"
   ]
  },
  {
   "cell_type": "code",
   "execution_count": 19,
   "id": "827f2663",
   "metadata": {},
   "outputs": [
    {
     "data": {
      "text/html": [
       "<div>\n",
       "<style scoped>\n",
       "    .dataframe tbody tr th:only-of-type {\n",
       "        vertical-align: middle;\n",
       "    }\n",
       "\n",
       "    .dataframe tbody tr th {\n",
       "        vertical-align: top;\n",
       "    }\n",
       "\n",
       "    .dataframe thead th {\n",
       "        text-align: right;\n",
       "    }\n",
       "</style>\n",
       "<table border=\"1\" class=\"dataframe\">\n",
       "  <thead>\n",
       "    <tr style=\"text-align: right;\">\n",
       "      <th></th>\n",
       "      <th>count</th>\n",
       "      <th>mean</th>\n",
       "      <th>std</th>\n",
       "      <th>min</th>\n",
       "      <th>25%</th>\n",
       "      <th>50%</th>\n",
       "      <th>75%</th>\n",
       "      <th>max</th>\n",
       "    </tr>\n",
       "  </thead>\n",
       "  <tbody>\n",
       "    <tr>\n",
       "      <th>bedroomcnt</th>\n",
       "      <td>2137028.0</td>\n",
       "      <td>3.304882</td>\n",
       "      <td>0.927623</td>\n",
       "      <td>0.0</td>\n",
       "      <td>3.0</td>\n",
       "      <td>3.0</td>\n",
       "      <td>4.0</td>\n",
       "      <td>25.0</td>\n",
       "    </tr>\n",
       "    <tr>\n",
       "      <th>bathroomcnt</th>\n",
       "      <td>2137028.0</td>\n",
       "      <td>2.242574</td>\n",
       "      <td>0.988722</td>\n",
       "      <td>0.0</td>\n",
       "      <td>2.0</td>\n",
       "      <td>2.0</td>\n",
       "      <td>3.0</td>\n",
       "      <td>32.0</td>\n",
       "    </tr>\n",
       "    <tr>\n",
       "      <th>calculatedfinishedsquarefeet</th>\n",
       "      <td>2137028.0</td>\n",
       "      <td>1865.140382</td>\n",
       "      <td>1221.416753</td>\n",
       "      <td>401.0</td>\n",
       "      <td>1259.0</td>\n",
       "      <td>1624.0</td>\n",
       "      <td>2209.0</td>\n",
       "      <td>952576.0</td>\n",
       "    </tr>\n",
       "    <tr>\n",
       "      <th>taxvaluedollarcnt</th>\n",
       "      <td>2137028.0</td>\n",
       "      <td>461122.073688</td>\n",
       "      <td>677382.525670</td>\n",
       "      <td>10091.0</td>\n",
       "      <td>189615.0</td>\n",
       "      <td>328816.0</td>\n",
       "      <td>535000.0</td>\n",
       "      <td>90188462.0</td>\n",
       "    </tr>\n",
       "    <tr>\n",
       "      <th>yearbuilt</th>\n",
       "      <td>2137028.0</td>\n",
       "      <td>1960.985765</td>\n",
       "      <td>22.143597</td>\n",
       "      <td>1801.0</td>\n",
       "      <td>1949.0</td>\n",
       "      <td>1958.0</td>\n",
       "      <td>1976.0</td>\n",
       "      <td>2016.0</td>\n",
       "    </tr>\n",
       "    <tr>\n",
       "      <th>taxamount</th>\n",
       "      <td>2137028.0</td>\n",
       "      <td>5622.631844</td>\n",
       "      <td>7817.031843</td>\n",
       "      <td>201.0</td>\n",
       "      <td>2547.0</td>\n",
       "      <td>4116.0</td>\n",
       "      <td>6416.0</td>\n",
       "      <td>1078101.0</td>\n",
       "    </tr>\n",
       "    <tr>\n",
       "      <th>fips</th>\n",
       "      <td>2137028.0</td>\n",
       "      <td>6048.312721</td>\n",
       "      <td>20.341286</td>\n",
       "      <td>6037.0</td>\n",
       "      <td>6037.0</td>\n",
       "      <td>6037.0</td>\n",
       "      <td>6059.0</td>\n",
       "      <td>6111.0</td>\n",
       "    </tr>\n",
       "  </tbody>\n",
       "</table>\n",
       "</div>"
      ],
      "text/plain": [
       "                                  count           mean            std  \\\n",
       "bedroomcnt                    2137028.0       3.304882       0.927623   \n",
       "bathroomcnt                   2137028.0       2.242574       0.988722   \n",
       "calculatedfinishedsquarefeet  2137028.0    1865.140382    1221.416753   \n",
       "taxvaluedollarcnt             2137028.0  461122.073688  677382.525670   \n",
       "yearbuilt                     2137028.0    1960.985765      22.143597   \n",
       "taxamount                     2137028.0    5622.631844    7817.031843   \n",
       "fips                          2137028.0    6048.312721      20.341286   \n",
       "\n",
       "                                  min       25%       50%       75%  \\\n",
       "bedroomcnt                        0.0       3.0       3.0       4.0   \n",
       "bathroomcnt                       0.0       2.0       2.0       3.0   \n",
       "calculatedfinishedsquarefeet    401.0    1259.0    1624.0    2209.0   \n",
       "taxvaluedollarcnt             10091.0  189615.0  328816.0  535000.0   \n",
       "yearbuilt                      1801.0    1949.0    1958.0    1976.0   \n",
       "taxamount                       201.0    2547.0    4116.0    6416.0   \n",
       "fips                           6037.0    6037.0    6037.0    6059.0   \n",
       "\n",
       "                                     max  \n",
       "bedroomcnt                          25.0  \n",
       "bathroomcnt                         32.0  \n",
       "calculatedfinishedsquarefeet    952576.0  \n",
       "taxvaluedollarcnt             90188462.0  \n",
       "yearbuilt                         2016.0  \n",
       "taxamount                      1078101.0  \n",
       "fips                              6111.0  "
      ]
     },
     "execution_count": 19,
     "metadata": {},
     "output_type": "execute_result"
    }
   ],
   "source": [
    "df = df[df['taxamount'] > 200]\n",
    "df.describe().T"
   ]
  },
  {
   "cell_type": "code",
   "execution_count": 20,
   "id": "8913b092",
   "metadata": {},
   "outputs": [
    {
     "data": {
      "image/png": "[encoded data removed]",
      "text/plain": [
       "<Figure size 432x288 with 1 Axes>"
      ]
     },
     "metadata": {
      "needs_background": "light"
     },
     "output_type": "display_data"
    }
   ],
   "source": [
    "sns.histplot(x='yearbuilt', data = df, bins = 115)\n",
    "plt.show()"
   ]
  },
  {
   "cell_type": "code",
   "execution_count": 21,
   "id": "4819e707",
   "metadata": {},
   "outputs": [
    {
     "data": {
      "image/png": "[encoded data removed]",
      "text/plain": [
       "<Figure size 864x432 with 2 Axes>"
      ]
     },
     "metadata": {
      "needs_background": "light"
     },
     "output_type": "display_data"
    }
   ],
   "source": [
    "plt.figure(figsize=(12,6))\n",
    "plt.subplot(121)\n",
    "plt.title('Number of Bedrooms')\n",
    "plt.ylabel('Count, in 100,000s')\n",
    "plt.xlabel('Bedrooms')\n",
    "sns.histplot(x = 'bedroomcnt', data=df, bins=25, stat='count')\n",
    "plt.subplot(122)\n",
    "plt.title('Number of Bathrooms')\n",
    "plt.ylabel('Count, in 100,000s')\n",
    "plt.xlabel('Bathrooms')\n",
    "sns.histplot(x = 'bathroomcnt', data=df, bins=32)\n",
    "\n",
    "plt.show()"
   ]
  },
  {
   "cell_type": "code",
   "execution_count": 22,
   "id": "c94a2ef8",
   "metadata": {},
   "outputs": [
    {
     "data": {
      "image/png": "[encoded data removed]",
      "text/plain": [
       "<Figure size 864x432 with 2 Axes>"
      ]
     },
     "metadata": {
      "needs_background": "light"
     },
     "output_type": "display_data"
    }
   ],
   "source": [
    "plt.figure(figsize=(12,6))\n",
    "plt.subplot(121)\n",
    "sns.boxplot(y = 'bedroomcnt', data=df)\n",
    "plt.subplot(122)\n",
    "sns.boxplot(y = 'bathroomcnt', data=df)\n",
    "\n",
    "plt.show()"
   ]
  },
  {
   "cell_type": "markdown",
   "id": "22a0efbd",
   "metadata": {},
   "source": [
    "I want to remove some outliers in the bathroom and bedroom counts.  Do zero bedrooms and bathrooms make sense for a 'family' home?  What should be the maximum?"
   ]
  },
  {
   "cell_type": "code",
   "execution_count": 23,
   "id": "50f36512",
   "metadata": {},
   "outputs": [
    {
     "data": {
      "text/plain": [
       "3216"
      ]
     },
     "execution_count": 23,
     "metadata": {},
     "output_type": "execute_result"
    }
   ],
   "source": [
    "df[df['bathroomcnt'] >= 8].shape[0]"
   ]
  },
  {
   "cell_type": "code",
   "execution_count": 24,
   "id": "7d1c4f12",
   "metadata": {},
   "outputs": [
    {
     "data": {
      "text/plain": [
       "2775"
      ]
     },
     "execution_count": 24,
     "metadata": {},
     "output_type": "execute_result"
    }
   ],
   "source": [
    "df[df['bathroomcnt'] == 0].shape[0]"
   ]
  },
  {
   "cell_type": "code",
   "execution_count": 25,
   "id": "ba1145a9",
   "metadata": {},
   "outputs": [
    {
     "data": {
      "text/plain": [
       "2788"
      ]
     },
     "execution_count": 25,
     "metadata": {},
     "output_type": "execute_result"
    }
   ],
   "source": [
    "df[df['bedroomcnt'] == 0].shape[0]"
   ]
  },
  {
   "cell_type": "code",
   "execution_count": 26,
   "id": "d5ae360a",
   "metadata": {},
   "outputs": [
    {
     "data": {
      "text/plain": [
       "1589"
      ]
     },
     "execution_count": 26,
     "metadata": {},
     "output_type": "execute_result"
    }
   ],
   "source": [
    "df[df['bedroomcnt'] >= 8].shape[0]"
   ]
  },
  {
   "cell_type": "code",
   "execution_count": 27,
   "id": "db24a212",
   "metadata": {},
   "outputs": [],
   "source": [
    "df = df[df['bathroomcnt'] > 0]\n",
    "df = df[df['bedroomcnt'] > 0]\n",
    "df = df[df['bathroomcnt'] < 8]\n",
    "df = df[df['bedroomcnt'] < 8]"
   ]
  },
  {
   "cell_type": "code",
   "execution_count": 28,
   "id": "ba6bb62b",
   "metadata": {},
   "outputs": [
    {
     "data": {
      "image/png": "[encoded data removed]",
      "text/plain": [
       "<Figure size 432x288 with 1 Axes>"
      ]
     },
     "metadata": {
      "needs_background": "light"
     },
     "output_type": "display_data"
    }
   ],
   "source": [
    "sns.histplot(x='calculatedfinishedsquarefeet', data = df, bins = 100, log_scale=(False, True))\n",
    "plt.show()"
   ]
  },
  {
   "cell_type": "markdown",
   "id": "e8e5614c",
   "metadata": {},
   "source": [
    "This visualization showed I needed to remove some massive outlier, especailly after looking at the related data from that entry."
   ]
  },
  {
   "cell_type": "code",
   "execution_count": 29,
   "id": "75793e91",
   "metadata": {},
   "outputs": [],
   "source": [
    "df = df[df.calculatedfinishedsquarefeet < 20000]"
   ]
  },
  {
   "cell_type": "code",
   "execution_count": 30,
   "id": "e2cc66c6",
   "metadata": {},
   "outputs": [
    {
     "data": {
      "image/png": "[encoded data removed]",
      "text/plain": [
       "<Figure size 432x288 with 1 Axes>"
      ]
     },
     "metadata": {
      "needs_background": "light"
     },
     "output_type": "display_data"
    }
   ],
   "source": [
    "sns.histplot(x='calculatedfinishedsquarefeet', data = df, bins = 100, log_scale=(False, True))\n",
    "plt.show()"
   ]
  },
  {
   "cell_type": "code",
   "execution_count": 31,
   "id": "99ce1ef6",
   "metadata": {},
   "outputs": [
    {
     "data": {
      "image/png": "[encoded data removed]",
      "text/plain": [
       "<Figure size 432x288 with 1 Axes>"
      ]
     },
     "metadata": {
      "needs_background": "light"
     },
     "output_type": "display_data"
    }
   ],
   "source": [
    "sns.histplot(x='taxvaluedollarcnt', data = df, bins = 100, log_scale=(False,True))\n",
    "plt.show()"
   ]
  },
  {
   "cell_type": "code",
   "execution_count": 32,
   "id": "ff25c6e5",
   "metadata": {},
   "outputs": [
    {
     "data": {
      "text/plain": [
       "73"
      ]
     },
     "execution_count": 32,
     "metadata": {},
     "output_type": "execute_result"
    }
   ],
   "source": [
    "df[df['taxvaluedollarcnt'] > 20000000].shape[0]"
   ]
  },
  {
   "cell_type": "code",
   "execution_count": 33,
   "id": "5c7c25b5",
   "metadata": {},
   "outputs": [],
   "source": [
    "df = df[df['taxvaluedollarcnt'] < 20000000]"
   ]
  },
  {
   "cell_type": "code",
   "execution_count": 34,
   "id": "2235d0c5",
   "metadata": {},
   "outputs": [
    {
     "data": {
      "image/png": "[encoded data removed]",
      "text/plain": [
       "<Figure size 432x288 with 1 Axes>"
      ]
     },
     "metadata": {
      "needs_background": "light"
     },
     "output_type": "display_data"
    }
   ],
   "source": [
    "sns.histplot(x='taxamount', data = df, bins = 100, log_scale=(False,True))\n",
    "plt.show()"
   ]
  },
  {
   "cell_type": "code",
   "execution_count": 35,
   "id": "a938ee87",
   "metadata": {},
   "outputs": [
    {
     "data": {
      "text/plain": [
       "0"
      ]
     },
     "execution_count": 35,
     "metadata": {},
     "output_type": "execute_result"
    }
   ],
   "source": [
    "df[df['taxamount'] > 300000].shape[0]"
   ]
  },
  {
   "cell_type": "code",
   "execution_count": 36,
   "id": "4eaa05e9",
   "metadata": {},
   "outputs": [],
   "source": [
    "df = df[df['taxamount'] < 300000]"
   ]
  },
  {
   "cell_type": "markdown",
   "id": "7d6aaed4",
   "metadata": {},
   "source": [
    "##### The total amount of the oiginal dataset left to split:"
   ]
  },
  {
   "cell_type": "code",
   "execution_count": 37,
   "id": "689f7550",
   "metadata": {},
   "outputs": [
    {
     "name": "stdout",
     "output_type": "stream",
     "text": [
      " Percent of dataset remaining after all null columns eliminated = 98.90%\n"
     ]
    }
   ],
   "source": [
    "print(f' Percent of dataset remaining after all null columns eliminated = {100*(df.shape[0]/raw_entries):.2f}%')"
   ]
  },
  {
   "cell_type": "markdown",
   "id": "7c98f0dc",
   "metadata": {},
   "source": [
    "#### Also, decided to translate the fips codes to the names.  Easier to follow and can encode later."
   ]
  },
  {
   "cell_type": "code",
   "execution_count": 38,
   "id": "0840400f",
   "metadata": {},
   "outputs": [],
   "source": [
    "df['fips_name'] = np.where(df.fips == 6037, 'Los Angeles', np.where(df.fips == 6059, 'Orange','Ventura') )\n",
    "df = df.drop(columns = 'fips')"
   ]
  },
  {
   "cell_type": "markdown",
   "id": "bdcd8983",
   "metadata": {},
   "source": [
    "### So, in summation, the wrangle for the zillow dataset is:\n",
    "1. Build SQL query for requested features.\n",
    "2. Acquire SQL query results using an acquire function and local env credentials.  Save to local csv.\n",
    "3. Drop all nulls\n",
    "4. Convert all columns to integers, with the exception of bathrooms (half bathrooms force a float)\n",
    "5. Go through and drop 'funky' data - clear outliers indicating a high probability of being misentered.\n",
    "6. Clarify any categorical names (in this case, fips is actually categorical)"
   ]
  },
  {
   "cell_type": "markdown",
   "id": "82fcef3e",
   "metadata": {},
   "source": [
    "## *Test of wrangle*"
   ]
  },
  {
   "cell_type": "code",
   "execution_count": 39,
   "id": "03ef5bf0",
   "metadata": {},
   "outputs": [],
   "source": [
    "from wrangle import wrangle_zillow"
   ]
  },
  {
   "cell_type": "code",
   "execution_count": 40,
   "id": "c58af895",
   "metadata": {
    "scrolled": true
   },
   "outputs": [
    {
     "data": {
      "text/html": [
       "<div>\n",
       "<style scoped>\n",
       "    .dataframe tbody tr th:only-of-type {\n",
       "        vertical-align: middle;\n",
       "    }\n",
       "\n",
       "    .dataframe tbody tr th {\n",
       "        vertical-align: top;\n",
       "    }\n",
       "\n",
       "    .dataframe thead th {\n",
       "        text-align: right;\n",
       "    }\n",
       "</style>\n",
       "<table border=\"1\" class=\"dataframe\">\n",
       "  <thead>\n",
       "    <tr style=\"text-align: right;\">\n",
       "      <th></th>\n",
       "      <th>count</th>\n",
       "      <th>mean</th>\n",
       "      <th>std</th>\n",
       "      <th>min</th>\n",
       "      <th>25%</th>\n",
       "      <th>50%</th>\n",
       "      <th>75%</th>\n",
       "      <th>max</th>\n",
       "    </tr>\n",
       "  </thead>\n",
       "  <tbody>\n",
       "    <tr>\n",
       "      <th>bedroomcnt</th>\n",
       "      <td>2129093.0</td>\n",
       "      <td>3.302077</td>\n",
       "      <td>0.904248</td>\n",
       "      <td>1.00</td>\n",
       "      <td>3.00</td>\n",
       "      <td>3.00</td>\n",
       "      <td>4.00</td>\n",
       "      <td>7.00</td>\n",
       "    </tr>\n",
       "    <tr>\n",
       "      <th>bathroomcnt</th>\n",
       "      <td>2129093.0</td>\n",
       "      <td>2.234291</td>\n",
       "      <td>0.947438</td>\n",
       "      <td>0.50</td>\n",
       "      <td>2.00</td>\n",
       "      <td>2.00</td>\n",
       "      <td>3.00</td>\n",
       "      <td>7.50</td>\n",
       "    </tr>\n",
       "    <tr>\n",
       "      <th>calculatedfinishedsquarefeet</th>\n",
       "      <td>2129093.0</td>\n",
       "      <td>1851.380050</td>\n",
       "      <td>901.500769</td>\n",
       "      <td>401.00</td>\n",
       "      <td>1259.00</td>\n",
       "      <td>1623.00</td>\n",
       "      <td>2204.00</td>\n",
       "      <td>59220.00</td>\n",
       "    </tr>\n",
       "    <tr>\n",
       "      <th>taxvaluedollarcnt</th>\n",
       "      <td>2129093.0</td>\n",
       "      <td>450861.737759</td>\n",
       "      <td>553571.566031</td>\n",
       "      <td>10091.00</td>\n",
       "      <td>189545.00</td>\n",
       "      <td>328251.00</td>\n",
       "      <td>533283.00</td>\n",
       "      <td>19899996.00</td>\n",
       "    </tr>\n",
       "    <tr>\n",
       "      <th>yearbuilt</th>\n",
       "      <td>2129093.0</td>\n",
       "      <td>1960.967307</td>\n",
       "      <td>22.092824</td>\n",
       "      <td>1801.00</td>\n",
       "      <td>1949.00</td>\n",
       "      <td>1958.00</td>\n",
       "      <td>1975.00</td>\n",
       "      <td>2016.00</td>\n",
       "    </tr>\n",
       "    <tr>\n",
       "      <th>taxamount</th>\n",
       "      <td>2129093.0</td>\n",
       "      <td>5504.341108</td>\n",
       "      <td>6356.125887</td>\n",
       "      <td>200.42</td>\n",
       "      <td>2546.41</td>\n",
       "      <td>4111.63</td>\n",
       "      <td>6399.53</td>\n",
       "      <td>237752.21</td>\n",
       "    </tr>\n",
       "  </tbody>\n",
       "</table>\n",
       "</div>"
      ],
      "text/plain": [
       "                                  count           mean            std  \\\n",
       "bedroomcnt                    2129093.0       3.302077       0.904248   \n",
       "bathroomcnt                   2129093.0       2.234291       0.947438   \n",
       "calculatedfinishedsquarefeet  2129093.0    1851.380050     901.500769   \n",
       "taxvaluedollarcnt             2129093.0  450861.737759  553571.566031   \n",
       "yearbuilt                     2129093.0    1960.967307      22.092824   \n",
       "taxamount                     2129093.0    5504.341108    6356.125887   \n",
       "\n",
       "                                   min        25%        50%        75%  \\\n",
       "bedroomcnt                        1.00       3.00       3.00       4.00   \n",
       "bathroomcnt                       0.50       2.00       2.00       3.00   \n",
       "calculatedfinishedsquarefeet    401.00    1259.00    1623.00    2204.00   \n",
       "taxvaluedollarcnt             10091.00  189545.00  328251.00  533283.00   \n",
       "yearbuilt                      1801.00    1949.00    1958.00    1975.00   \n",
       "taxamount                       200.42    2546.41    4111.63    6399.53   \n",
       "\n",
       "                                      max  \n",
       "bedroomcnt                           7.00  \n",
       "bathroomcnt                          7.50  \n",
       "calculatedfinishedsquarefeet     59220.00  \n",
       "taxvaluedollarcnt             19899996.00  \n",
       "yearbuilt                         2016.00  \n",
       "taxamount                       237752.21  "
      ]
     },
     "execution_count": 40,
     "metadata": {},
     "output_type": "execute_result"
    }
   ],
   "source": [
    "df = wrangle_zillow()\n",
    "df.describe().T"
   ]
  }
 ],
 "metadata": {
  "kernelspec": {
   "display_name": "Python 3 (ipykernel)",
   "language": "python",
   "name": "python3"
  },
  "language_info": {
   "codemirror_mode": {
    "name": "ipython",
    "version": 3
   },
   "file_extension": ".py",
   "mimetype": "text/x-python",
   "name": "python",
   "nbconvert_exporter": "python",
   "pygments_lexer": "ipython3",
   "version": "3.9.7"
  }
 },
 "nbformat": 4,
 "nbformat_minor": 5
}
